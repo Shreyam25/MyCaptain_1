{
 "cells": [
  {
   "cell_type": "code",
   "execution_count": null,
   "metadata": {},
   "outputs": [],
   "source": [
    "#Task_1\n",
    "print(\"Program to print area of a given radius\")\n",
    "r = float(input(\"Enter a value of radius :\"))\n",
    "p = 3.14\n",
    "area = p*(r**2)\n",
    "print(\"Area of a circle :\" ,area)\n",
    "\n",
    "#Task_2\n",
    "File_name =input(\"Enter a File Name: \")\n",
    "exten = File_name.split(\".\")\n",
    "# print(\"File Name:\",File_name)\n",
    "print(\"File Extension :\", exten[-1])\n",
    "if(exten[-1]== \"py\"):\n",
    "    print(\"File Extension :\", \"python\")\n",
    "elif(exten[-1]==\"java\"):\n",
    "    print(\"File Extension :\", Java)\n",
    "else:\n",
    "    print(\"please type file name in <file.extension> format\")"
   ]
  }
 ],
 "metadata": {
  "kernelspec": {
   "display_name": "Python 3",
   "language": "python",
   "name": "python3"
  },
  "language_info": {
   "codemirror_mode": {
    "name": "ipython",
    "version": 3
   },
   "file_extension": ".py",
   "mimetype": "text/x-python",
   "name": "python",
   "nbconvert_exporter": "python",
   "pygments_lexer": "ipython3",
   "version": "3.8.5"
  }
 },
 "nbformat": 4,
 "nbformat_minor": 4
}
