{
 "cells": [
  {
   "cell_type": "code",
   "execution_count": 1,
   "metadata": {},
   "outputs": [
    {
     "name": "stdout",
     "output_type": "stream",
     "text": [
      "Enter student information for #1 Student in the following format First_Name Age Contact_no. Email ID \n",
      ":Riya 43 9074635888 Riya@gmail.com\n",
      "Entered information is-\n",
      " First Name : Riya\n",
      " Age        : 43 \n",
      " Contact_no : 9074635888 \n",
      " Email ID   : Riya@gmail.com\n",
      "Is entered information correct ? **yes/no**yes\n",
      "\n",
      "Do you wanna enter one more students detail ? **yes/no** :yes\n",
      "Enter student information for #2 Student in the following format First_Name Age Contact_no. Email ID \n",
      ":Priya 33 9074790488 Priya@gmail.com\n",
      "Entered information is-\n",
      " First Name : Priya\n",
      " Age        : 33 \n",
      " Contact_no : 9074790488 \n",
      " Email ID   : Priya@gmail.com\n",
      "Is entered information correct ? **yes/no**yes\n",
      "\n",
      "Do you wanna enter one more students detail ? **yes/no** :yes\n",
      "Enter student information for #3 Student in the following format First_Name Age Contact_no. Email ID \n",
      ":Vivek 45 946324389 vvk@g.com\n",
      "Entered information is-\n",
      " First Name : Vivek\n",
      " Age        : 45 \n",
      " Contact_no : 946324389 \n",
      " Email ID   : vvk@g.com\n",
      "Is entered information correct ? **yes/no**no\n",
      "\n",
      "Please re-enter correct values..\n",
      "Enter student information for #3 Student in the following format First_Name Age Contact_no. Email ID \n",
      ":Vivek 45 946324389 vvk@gmail.com\n",
      "Entered information is-\n",
      " First Name : Vivek\n",
      " Age        : 45 \n",
      " Contact_no : 946324389 \n",
      " Email ID   : vvk@gmail.com\n",
      "Is entered information correct ? **yes/no**yes\n",
      "\n",
      "Do you wanna enter one more students detail ? **yes/no** :no\n"
     ]
    }
   ],
   "source": [
    "import csv\n",
    "\n",
    "def write_info_csv(info_list):\n",
    "    with open(\"Student_info.csv\",\"a\",newline=\"\") as csv_file:\n",
    "        writer=csv.writer(csv_file)#declaring writer as a object\n",
    "        if csv_file.tell()==0:\n",
    "            writer.writerow([\"Name\",\"Age\",\"Contact no.\",\"Email-ID\"])\n",
    "        writer.writerow(info_list)\n",
    "if __name__=='__main__':\n",
    "        std_num=1\n",
    "        condition=True\n",
    "        while(condition):  \n",
    "            student_info=input(\"Enter student information for #{} Student in the following format First_Name Age Contact_no. Email ID \\n:\".format(std_num))\n",
    "\n",
    "            split_info=student_info.split(\" \")\n",
    "            \n",
    "            print(\"Entered information is-\\n First Name : {}\\n Age        : {} \\n Contact_no : {} \\n Email ID   : {}\"\n",
    "                  .format(split_info[0],split_info[1],split_info[2],split_info[3]))\n",
    "            info_check=input(\"Is entered information correct ? **yes/no**\")\n",
    "            if info_check==\"yes\":   \n",
    "                write_info_csv(split_info)\n",
    "                print()\n",
    "                condition_check=input(\"Do you wanna enter one more students detail ? **yes/no** :\")\n",
    "                if  condition_check==\"yes\":\n",
    "                    condition=True\n",
    "                    std_num=std_num+1\n",
    "                else:\n",
    "                    condition=False\n",
    "            else:\n",
    "                print(\"\\nPlease re-enter correct values..\")"
   ]
  },
  {
   "cell_type": "code",
   "execution_count": null,
   "metadata": {},
   "outputs": [],
   "source": []
  },
  {
   "cell_type": "code",
   "execution_count": null,
   "metadata": {},
   "outputs": [],
   "source": []
  }
 ],
 "metadata": {
  "kernelspec": {
   "display_name": "Python 3",
   "language": "python",
   "name": "python3"
  },
  "language_info": {
   "codemirror_mode": {
    "name": "ipython",
    "version": 3
   },
   "file_extension": ".py",
   "mimetype": "text/x-python",
   "name": "python",
   "nbconvert_exporter": "python",
   "pygments_lexer": "ipython3",
   "version": "3.8.5"
  }
 },
 "nbformat": 4,
 "nbformat_minor": 4
}
