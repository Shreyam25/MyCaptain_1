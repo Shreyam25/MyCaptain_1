{
  "nbformat": 4,
  "nbformat_minor": 0,
  "metadata": {
    "colab": {
      "name": "Mycap_Ai-1.ipynb",
      "private_outputs": true,
      "provenance": [],
      "authorship_tag": "ABX9TyNqXmvTW0BCkBFEBPGXdsev",
      "include_colab_link": true
    },
    "kernelspec": {
      "name": "python3",
      "display_name": "Python 3"
    },
    "language_info": {
      "name": "python"
    }
  },
  "cells": [
    {
      "cell_type": "markdown",
      "metadata": {
        "id": "view-in-github",
        "colab_type": "text"
      },
      "source": [
        "<a href=\"https://colab.research.google.com/github/Shreyam25/MyCaptain_Repo/blob/main/Mycap_Ai_1.ipynb\" target=\"_parent\"><img src=\"https://colab.research.google.com/assets/colab-badge.svg\" alt=\"Open In Colab\"/></a>"
      ]
    },
    {
      "cell_type": "markdown",
      "metadata": {
        "id": "VH3M0wIfSlxQ"
      },
      "source": [
        "My captain AI #task 1"
      ]
    },
    {
      "cell_type": "code",
      "metadata": {
        "id": "yaFFz582Sk7S"
      },
      "source": [
        "print(\"Hello world !!\")\n",
        "print(\"Welcome to My captain !!\")"
      ],
      "execution_count": null,
      "outputs": []
    }
  ]
}