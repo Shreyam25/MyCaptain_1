{
 "cells": [
  {
   "cell_type": "code",
   "execution_count": 3,
   "metadata": {},
   "outputs": [
    {
     "name": "stdout",
     "output_type": "stream",
     "text": [
      "Enter a string :Mississippi\n"
     ]
    },
    {
     "data": {
      "text/plain": [
       "{'M': 1, 'i': 4, 's': 4, 'p': 2}"
      ]
     },
     "execution_count": 3,
     "metadata": {},
     "output_type": "execute_result"
    }
   ],
   "source": [
    "#Code to count frequency of a character\n",
    "def most_frequent(string):\n",
    "    a = {}\n",
    "    for i in string:\n",
    "        if i in a:\n",
    "            a[i] += 1\n",
    "        else:\n",
    "            a[i] = 1\n",
    "    return a\n",
    "string = input(\"Enter a string :\")\n",
    "most_frequent(string)\n"
   ]
  },
  {
   "cell_type": "code",
   "execution_count": null,
   "metadata": {},
   "outputs": [],
   "source": []
  },
  {
   "cell_type": "code",
   "execution_count": null,
   "metadata": {},
   "outputs": [],
   "source": []
  }
 ],
 "metadata": {
  "kernelspec": {
   "display_name": "Python 3",
   "language": "python",
   "name": "python3"
  },
  "language_info": {
   "codemirror_mode": {
    "name": "ipython",
    "version": 3
   },
   "file_extension": ".py",
   "mimetype": "text/x-python",
   "name": "python",
   "nbconvert_exporter": "python",
   "pygments_lexer": "ipython3",
   "version": "3.8.5"
  }
 },
 "nbformat": 4,
 "nbformat_minor": 4
}
