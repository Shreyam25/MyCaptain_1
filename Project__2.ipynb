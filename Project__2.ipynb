{
 "cells": [
  {
   "cell_type": "code",
   "execution_count": 40,
   "metadata": {},
   "outputs": [
    {
     "name": "stdout",
     "output_type": "stream",
     "text": [
      "Enter a series member up to which you want series to be executed:5\n",
      "Fibonaccie Series :\n",
      "0 ,0 ,1 ,2 ,3 ,5 ,\n",
      "\n",
      "Enter a Count for Fibonacci series execution:6\n",
      "Fibonaccie Series :\n",
      "0 ,0 ,1 ,2 ,3 ,5 ,"
     ]
    }
   ],
   "source": [
    "#Fibbonacci Seriesfor up to last member of a seriess \n",
    "n=int(input(\"Enter a series member up to which you want series to be executed:\"))\n",
    "n_1=0\n",
    "n_2=1\n",
    "n_3=0\n",
    "\n",
    "sum=0\n",
    "if n<=0: \n",
    "    print(\"Enter a Positive Integer\")\n",
    "elif n==1:\n",
    "    print(\"Fibonacci Series : 1\")\n",
    "else:\n",
    "    print(\"Fibonaccie Series :\")\n",
    "    print(0,end=\" ,\")\n",
    "    while n>=n_3:\n",
    "        \n",
    "        print(n_3,end=\" ,\")\n",
    "        n_3=n_1+n_2\n",
    "        n_1=n_2\n",
    "        n_2=n_3\n",
    "        sum=sum+1\n",
    "print()  \n",
    "print()\n",
    "#Fibbonacci Series for n number of terms\n",
    "n=int(input(\"Enter a Count for Fibonacci series execution:\"))\n",
    "        \n",
    "n_1=0\n",
    "n_2=1\n",
    "n_3=0\n",
    "\n",
    "sum=0\n",
    "if n<=0: \n",
    "    print(\"Enter a Positive Integer\")\n",
    "elif n==1:\n",
    "    print(\"Fibonacci Series : 1\")\n",
    "else:\n",
    "    print(\"Fibonaccie Series :\")\n",
    "    print(0,end=\" ,\")\n",
    "    while (n-1)>sum:\n",
    "        \n",
    "        print(n_3,end=\" ,\")\n",
    "        n_3=n_1+n_2\n",
    "        n_1=n_2\n",
    "        n_2=n_3\n",
    "        sum=sum+1\n",
    "        \n",
    "        "
   ]
  },
  {
   "cell_type": "code",
   "execution_count": null,
   "metadata": {},
   "outputs": [],
   "source": []
  },
  {
   "cell_type": "code",
   "execution_count": null,
   "metadata": {},
   "outputs": [],
   "source": []
  },
  {
   "cell_type": "code",
   "execution_count": null,
   "metadata": {},
   "outputs": [],
   "source": []
  },
  {
   "cell_type": "code",
   "execution_count": null,
   "metadata": {},
   "outputs": [],
   "source": []
  }
 ],
 "metadata": {
  "kernelspec": {
   "display_name": "Python 3",
   "language": "python",
   "name": "python3"
  },
  "language_info": {
   "codemirror_mode": {
    "name": "ipython",
    "version": 3
   },
   "file_extension": ".py",
   "mimetype": "text/x-python",
   "name": "python",
   "nbconvert_exporter": "python",
   "pygments_lexer": "ipython3",
   "version": "3.8.5"
  }
 },
 "nbformat": 4,
 "nbformat_minor": 4
}
