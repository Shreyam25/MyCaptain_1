{
 "cells": [
  {
   "cell_type": "code",
   "execution_count": null,
   "id": "589bb3ea",
   "metadata": {},
   "outputs": [],
   "source": []
  },
  {
   "cell_type": "code",
   "execution_count": 1,
   "id": "4d69a5d6",
   "metadata": {},
   "outputs": [],
   "source": [
    "# TASK 3\n",
    "\n",
    "#Set Decleration\n",
    "E = {2,4,6,8,0}\n",
    "N = {2,4,5,1,3}\n"
   ]
  },
  {
   "cell_type": "code",
   "execution_count": 2,
   "id": "53fe0ca9",
   "metadata": {},
   "outputs": [
    {
     "name": "stdout",
     "output_type": "stream",
     "text": [
      "Union of E and N :  {0, 1, 2, 3, 4, 5, 6, 8}\n"
     ]
    }
   ],
   "source": [
    "#Union\n",
    "print(\"Union of E and N : \",E | N)   #all elements\n"
   ]
  },
  {
   "cell_type": "code",
   "execution_count": 3,
   "id": "ac5a6e79",
   "metadata": {},
   "outputs": [
    {
     "name": "stdout",
     "output_type": "stream",
     "text": [
      "Intersection of E and N  : {2, 4}\n"
     ]
    }
   ],
   "source": [
    "\n",
    "#Intersection\n",
    "print(\"Intersection of E and N  :\",E & N)  #Common to both sets\n"
   ]
  },
  {
   "cell_type": "code",
   "execution_count": 4,
   "id": "a3413c47",
   "metadata": {},
   "outputs": [
    {
     "name": "stdout",
     "output_type": "stream",
     "text": [
      "Difference of E and N :  {0, 8, 6}\n"
     ]
    }
   ],
   "source": [
    "#Difference\n",
    "print(\"Difference of E and N : \",E - N)   #present in E not in N"
   ]
  },
  {
   "cell_type": "code",
   "execution_count": 5,
   "id": "d905f51b",
   "metadata": {},
   "outputs": [
    {
     "name": "stdout",
     "output_type": "stream",
     "text": [
      "Symmetric difference of E and N :  {0, 1, 3, 5, 6, 8}\n"
     ]
    }
   ],
   "source": [
    "#Symmetric difference                #elements present in either of the two sets,but not common to both the sets. \n",
    "print(\"Symmetric difference of E and N : \",E ^ N)"
   ]
  }
 ],
 "metadata": {
  "kernelspec": {
   "display_name": "Python 3",
   "language": "python",
   "name": "python3"
  },
  "language_info": {
   "codemirror_mode": {
    "name": "ipython",
    "version": 3
   },
   "file_extension": ".py",
   "mimetype": "text/x-python",
   "name": "python",
   "nbconvert_exporter": "python",
   "pygments_lexer": "ipython3",
   "version": "3.8.8"
  }
 },
 "nbformat": 4,
 "nbformat_minor": 5
}
